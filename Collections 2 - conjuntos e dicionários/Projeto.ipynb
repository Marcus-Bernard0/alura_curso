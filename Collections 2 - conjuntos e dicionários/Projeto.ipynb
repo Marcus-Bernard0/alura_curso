{
  "cells": [
    {
      "cell_type": "markdown",
      "metadata": {
        "id": "ATHlLSN-aoga"
      },
      "source": [
        "## Parte 1 - Conjuntos "
      ]
    },
    {
      "cell_type": "code",
      "execution_count": null,
      "metadata": {
        "id": "seujCLTEaogi"
      },
      "outputs": [],
      "source": [
        "usuarios_data_science = [ 15, 23, 43, 56]\n",
        "usuarios_machine_learning = [13, 23, 56, 42]"
      ]
    },
    {
      "cell_type": "code",
      "execution_count": null,
      "metadata": {
        "colab": {
          "base_uri": "https://localhost:8080/"
        },
        "id": "Pofh3qSDaogl",
        "outputId": "75362857-d630-43f3-82b7-72308efeab78"
      },
      "outputs": [
        {
          "output_type": "execute_result",
          "data": {
            "text/plain": [
              "[15, 23, 43, 56]"
            ]
          },
          "metadata": {},
          "execution_count": 5
        }
      ],
      "source": [
        "assistiram = []\n",
        "assistiram.extend(usuarios_data_science)\n",
        "assistiram"
      ]
    },
    {
      "cell_type": "code",
      "execution_count": null,
      "metadata": {
        "colab": {
          "base_uri": "https://localhost:8080/"
        },
        "id": "PUoYUxABaogn",
        "outputId": "4c7f5902-0f6c-446e-ae11-fa3c81f0c9b6"
      },
      "outputs": [
        {
          "output_type": "execute_result",
          "data": {
            "text/plain": [
              "[15, 23, 43, 56, 13, 23, 56, 42]"
            ]
          },
          "metadata": {},
          "execution_count": 6
        }
      ],
      "source": [
        "assistiram = usuarios_data_science.copy()\n",
        "assistiram.extend(usuarios_machine_learning)\n",
        "assistiram"
      ]
    },
    {
      "cell_type": "markdown",
      "metadata": {
        "id": "FE9-keF2aogo"
      },
      "source": [
        "Houve uma repetição de elementos 23 e 56"
      ]
    },
    {
      "cell_type": "markdown",
      "metadata": {
        "id": "D6J9TH46aogp"
      },
      "source": [
        "#### Conjunto\n",
        "\n",
        "Elimina o elemento repetido"
      ]
    },
    {
      "cell_type": "code",
      "execution_count": null,
      "metadata": {
        "colab": {
          "base_uri": "https://localhost:8080/"
        },
        "id": "ZyAO7ETfaogq",
        "outputId": "4e41eb02-db1c-40b6-a026-f5aba00ac6fb"
      },
      "outputs": [
        {
          "output_type": "execute_result",
          "data": {
            "text/plain": [
              "{13, 15, 23, 42, 43, 56}"
            ]
          },
          "metadata": {},
          "execution_count": 7
        }
      ],
      "source": [
        "set(assistiram)"
      ]
    },
    {
      "cell_type": "code",
      "execution_count": null,
      "metadata": {
        "colab": {
          "base_uri": "https://localhost:8080/"
        },
        "id": "BL658OoIaogr",
        "outputId": "4330ecf0-0375-4e60-c110-6b76aef1420e"
      },
      "outputs": [
        {
          "output_type": "execute_result",
          "data": {
            "text/plain": [
              "{1, 3, 8, 10}"
            ]
          },
          "metadata": {},
          "execution_count": 8
        }
      ],
      "source": [
        "set([1,8,10,1,3])"
      ]
    },
    {
      "cell_type": "code",
      "execution_count": null,
      "metadata": {
        "colab": {
          "base_uri": "https://localhost:8080/"
        },
        "id": "ziSea6nlaogs",
        "outputId": "689d7f8f-50ea-4175-a744-9926c303a28d"
      },
      "outputs": [
        {
          "output_type": "execute_result",
          "data": {
            "text/plain": [
              "23"
            ]
          },
          "metadata": {},
          "execution_count": 9
        }
      ],
      "source": [
        "assistiram[1]"
      ]
    },
    {
      "cell_type": "code",
      "source": [
        "{5,8,7,9}"
      ],
      "metadata": {
        "colab": {
          "base_uri": "https://localhost:8080/"
        },
        "id": "Irven3A6dseJ",
        "outputId": "a7f6556a-9cc4-4057-daf9-9b8a767911fd"
      },
      "execution_count": null,
      "outputs": [
        {
          "output_type": "execute_result",
          "data": {
            "text/plain": [
              "{5, 7, 8, 9}"
            ]
          },
          "metadata": {},
          "execution_count": 10
        }
      ]
    },
    {
      "cell_type": "markdown",
      "source": [
        "Unindo conjuntos"
      ],
      "metadata": {
        "id": "DYWnmPVNd2n6"
      }
    },
    {
      "cell_type": "code",
      "source": [
        "usuarios_data_science = {15, 23, 43, 56}\n",
        "usuarios_machine_learning = {13, 23, 56, 42}"
      ],
      "metadata": {
        "id": "1bu5uZcWd4kI"
      },
      "execution_count": null,
      "outputs": []
    },
    {
      "cell_type": "code",
      "source": [
        "usuarios_data_science | usuarios_machine_learning"
      ],
      "metadata": {
        "colab": {
          "base_uri": "https://localhost:8080/"
        },
        "id": "s7Jll6oNeIcL",
        "outputId": "28305321-aa75-4bbb-a04b-11329ff09ba0"
      },
      "execution_count": null,
      "outputs": [
        {
          "output_type": "execute_result",
          "data": {
            "text/plain": [
              "{13, 15, 23, 42, 43, 56}"
            ]
          },
          "metadata": {},
          "execution_count": 13
        }
      ]
    },
    {
      "cell_type": "code",
      "source": [
        "data_science = sorted(usuarios_data_science - usuarios_machine_learning)\n",
        "print(f\"Esse usuários {data_science} fizeram Data Science mas não Machine Learning\")"
      ],
      "metadata": {
        "colab": {
          "base_uri": "https://localhost:8080/"
        },
        "id": "AIfV1cT2fbCR",
        "outputId": "cb6772fe-a9d0-4c8f-8a7b-bb979c10eab7"
      },
      "execution_count": null,
      "outputs": [
        {
          "output_type": "stream",
          "name": "stdout",
          "text": [
            "Esse usuários [15, 43] fizeram Data Science mas não Machine Learning\n"
          ]
        }
      ]
    },
    {
      "cell_type": "code",
      "source": [
        "ambos_cursos = sorted(usuarios_data_science & usuarios_machine_learning)\n",
        "print(f\"Esses usuários {ambos_cursos} fizeram ambos os cursos \")"
      ],
      "metadata": {
        "colab": {
          "base_uri": "https://localhost:8080/"
        },
        "id": "WoaXG9YQfzHE",
        "outputId": "b422f5e0-8dde-46c1-f4be-89d4c80ae4cb"
      },
      "execution_count": null,
      "outputs": [
        {
          "output_type": "stream",
          "name": "stdout",
          "text": [
            "Esses usuários [23, 56] fizeram ambos os cursos \n"
          ]
        }
      ]
    },
    {
      "cell_type": "code",
      "source": [
        "23 in data_science"
      ],
      "metadata": {
        "colab": {
          "base_uri": "https://localhost:8080/"
        },
        "id": "PXz5_XmaiPWa",
        "outputId": "1c40b024-fe80-4e7f-a92f-880b05d08986"
      },
      "execution_count": null,
      "outputs": [
        {
          "output_type": "execute_result",
          "data": {
            "text/plain": [
              "False"
            ]
          },
          "metadata": {},
          "execution_count": 33
        }
      ]
    },
    {
      "cell_type": "markdown",
      "source": [
        "Ou exclusivo : Usuarios fez curso, mas não fez os dois."
      ],
      "metadata": {
        "id": "t2z6TVBHjgUu"
      }
    },
    {
      "cell_type": "code",
      "source": [
        "ou_exclusivo = usuarios_data_science ^ usuarios_machine_learning\n",
        "print(f\"Esses usuários {ou_exclusivo} fizeram cursos, mas não os dois\")"
      ],
      "metadata": {
        "colab": {
          "base_uri": "https://localhost:8080/"
        },
        "id": "sov3oquHiefR",
        "outputId": "f5093d36-8a2a-4b37-96ba-c975ef56bec5"
      },
      "execution_count": null,
      "outputs": [
        {
          "output_type": "stream",
          "name": "stdout",
          "text": [
            "Esses usuários {42, 43, 13, 15} fizeram cursos, mas não os dois\n"
          ]
        }
      ]
    }
  ],
  "metadata": {
    "kernelspec": {
      "display_name": "Python 3.9.12 ('base')",
      "language": "python",
      "name": "python3"
    },
    "language_info": {
      "codemirror_mode": {
        "name": "ipython",
        "version": 3
      },
      "file_extension": ".py",
      "mimetype": "text/x-python",
      "name": "python",
      "nbconvert_exporter": "python",
      "pygments_lexer": "ipython3",
      "version": "3.9.12"
    },
    "orig_nbformat": 4,
    "vscode": {
      "interpreter": {
        "hash": "7ad2d2b061933ccb46f02c21d4dc257a7efb561c7355abd71f7246fa8dd772fc"
      }
    },
    "colab": {
      "name": "Projeto.ipynb",
      "provenance": []
    }
  },
  "nbformat": 4,
  "nbformat_minor": 0
}